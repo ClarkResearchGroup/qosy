{
 "cells": [
  {
   "cell_type": "markdown",
   "metadata": {},
   "source": [
    "# Introduction to Qosy\n",
    "\n",
    "Welcome to `qosy`!\n",
    "\n",
    "This notebook will give a brief overview of the main objects in this package. Other notebooks will show how to use these to construct operators with desired symmetries."
   ]
  },
  {
   "cell_type": "markdown",
   "metadata": {},
   "source": [
    "## OperatorStrings\n",
    "\n",
    "The main building block of `qosy` are `OperatorString` objects. They represent linearly independent Hermitian operators and are used as basis vectors of vector spaces of quantum operators.\n",
    "\n",
    "They come in three types: Pauli strings, Fermion strings, and Majorana strings.\n",
    "\n",
    "A **Pauli string** is a product of Pauli matrices. For example, \n",
    "\n",
    "$$\\hat{\\sigma}^x_1 \\hat{\\sigma}^x_2$$\n",
    "\n",
    "is a Pauli string acting on two orbitals.\n",
    "\n",
    "A **Fermion string** is a product of Fermionic creation and anhillation operators plus its Hermitian conjugate. For example, \n",
    "\n",
    "$$ \\hat{c}_2^\\dagger \\hat{c}_1 + H.c. $$\n",
    "\n",
    "is a Fermion string acting on two orbitals.\n",
    "\n",
    "A **Majorana string** is a product of Majorana Fermion operators, $\\hat{a}_j=\\hat{c}^\\dagger_j + \\hat{c}_j$, $\\hat{b}_j = i\\hat{c}^\\dagger_j -i \\hat{c}_j$, and $\\hat{d}_j=\\hat{I}-2\\hat{c}^\\dagger_j \\hat{c}_j$. For example,\n",
    "\n",
    "$$ i\\hat{a}_1 \\hat{b}_2 \\hat{d}_3 $$\n",
    "\n",
    "is a Majorana string acting on three orbitals.\n",
    "\n",
    "Such `OperatorStrings` can be easily created and manipulated in `qosy`. For example with the following code:"
   ]
  },
  {
   "cell_type": "code",
   "execution_count": 1,
   "metadata": {},
   "outputs": [],
   "source": [
    "import qosy as qy\n",
    "\n",
    "op_string_p = qy.opstring('X 1 X 2')\n",
    "op_string_f = qy.opstring('CDag 2 C 1')\n",
    "op_string_m = qy.opstring('1j A 1 B 2 D 3') "
   ]
  },
  {
   "cell_type": "markdown",
   "metadata": {},
   "source": [
    "To access the names of the operators attached to each orbital or the orbital labels, you can use the `orbital_operators` and `orbital_labels` parameters:"
   ]
  },
  {
   "cell_type": "code",
   "execution_count": 2,
   "metadata": {},
   "outputs": [
    {
     "name": "stdout",
     "output_type": "stream",
     "text": [
      "['CDag' 'C']\n",
      "[1 2 3]\n"
     ]
    }
   ],
   "source": [
    "print(op_string_f.orbital_operators)\n",
    "print(op_string_m.orbital_labels)"
   ]
  },
  {
   "cell_type": "markdown",
   "metadata": {},
   "source": [
    "To convert between different types of `OperatorStrings`, you can use the `convert` method. This will return an `Operator` object (discussed below)."
   ]
  },
  {
   "cell_type": "code",
   "execution_count": 3,
   "metadata": {},
   "outputs": [
    {
     "name": "stdout",
     "output_type": "stream",
     "text": [
      "1j A 1 B 2 D 3  =\n",
      "(-2+0j) (1.0 CDag 2 CDag 3 C 3 C 1 )\n",
      "(1+0j) (1.0 CDag 2 C 1 )\n",
      "(2+0j) (1.0 CDag 1 CDag 2 CDag 3 C 3 )\n",
      "(-1+0j) (1.0 CDag 1 CDag 2 )\n",
      "\n"
     ]
    }
   ],
   "source": [
    "# Convert a Majorana string into a linear combination\n",
    "# of Fermion strings.\n",
    "op = qy.convert(op_string_m, 'Fermion')\n",
    "\n",
    "print('{} =\\n{}'.format(op_string_m,op))"
   ]
  },
  {
   "cell_type": "markdown",
   "metadata": {},
   "source": [
    "## Bases\n",
    "\n",
    "To construct quantum operators with desired symmetries, we want to search for operators in a vector space of operators. One way we do this is by defining a `Basis` of `OperatorStrings` that span that space.\n",
    "\n",
    "A convenient method for constructing bases is the `cluster_basis` function, which constructs a basis of operator strings with support on up to $k$ orbitals on a given cluster."
   ]
  },
  {
   "cell_type": "code",
   "execution_count": 6,
   "metadata": {},
   "outputs": [
    {
     "name": "stdout",
     "output_type": "stream",
     "text": [
      "1.0 X 1 \n",
      "1.0 Y 1 \n",
      "1.0 Z 1 \n",
      "1.0 X 2 \n",
      "1.0 Y 2 \n",
      "1.0 Z 2 \n",
      "1.0 X 3 \n",
      "1.0 Y 3 \n",
      "1.0 Z 3 \n",
      "1.0 X 1 X 2 X 3 \n",
      "1.0 X 1 X 2 Y 3 \n",
      "1.0 X 1 X 2 Z 3 \n",
      "1.0 X 1 Y 2 X 3 \n",
      "1.0 X 1 Y 2 Y 3 \n",
      "1.0 X 1 Y 2 Z 3 \n",
      "1.0 X 1 Z 2 X 3 \n",
      "1.0 X 1 Z 2 Y 3 \n",
      "1.0 X 1 Z 2 Z 3 \n",
      "1.0 Y 1 X 2 X 3 \n",
      "1.0 Y 1 X 2 Y 3 \n",
      "1.0 Y 1 X 2 Z 3 \n",
      "1.0 Y 1 Y 2 X 3 \n",
      "1.0 Y 1 Y 2 Y 3 \n",
      "1.0 Y 1 Y 2 Z 3 \n",
      "1.0 Y 1 Z 2 X 3 \n",
      "1.0 Y 1 Z 2 Y 3 \n",
      "1.0 Y 1 Z 2 Z 3 \n",
      "1.0 Z 1 X 2 X 3 \n",
      "1.0 Z 1 X 2 Y 3 \n",
      "1.0 Z 1 X 2 Z 3 \n",
      "1.0 Z 1 Y 2 X 3 \n",
      "1.0 Z 1 Y 2 Y 3 \n",
      "1.0 Z 1 Y 2 Z 3 \n",
      "1.0 Z 1 Z 2 X 3 \n",
      "1.0 Z 1 Z 2 Y 3 \n",
      "1.0 Z 1 Z 2 Z 3 \n",
      "\n"
     ]
    }
   ],
   "source": [
    "# Consider a \"cluster\" made of three\n",
    "# orbitals labeled by integers.\n",
    "cluster_orbitals = [1,2,3]\n",
    "\n",
    "# Construct a basis made of all possible \n",
    "# k-local Pauli strings on the cluster.\n",
    "k       = [1,3]\n",
    "op_type = 'Pauli'\n",
    "basis   = qy.cluster_basis(k, cluster_orbitals, op_type)\n",
    "\n",
    "# Print a description of the OperatorStrings in the basis.\n",
    "print(basis)"
   ]
  },
  {
   "cell_type": "markdown",
   "metadata": {},
   "source": [
    "An alternative way to define a vector space of Operators is by using a basis of `Operators` (see below) rather than `OperatorStrings`. Currently, a \"basis\" of `Operators` is simply a `list` of `Operators`.\n",
    "\n",
    "Note that Pauli strings and Majorana strings form complete orthonormal bases of the vector spaces of spin-$1/2$ and fermionic operators, where the inner product is the Hilbert-Schmidt inner product. This makes them particularly useful for calculations."
   ]
  },
  {
   "cell_type": "markdown",
   "metadata": {},
   "source": [
    "## Operators\n",
    "\n",
    "A general quantum operator can be written as a linear combinations of operator strings. In particular, a Hermitian operator $\\hat{\\mathcal{O}}$ can be written as $\\hat{\\mathcal{O}} = \\sum_a g_a \\hat{h}_a$ where $g_a$ are real coefficients and $\\hat{h}_a$ are operator strings.\n",
    "\n",
    "There are two ways to represent an operator in `qosy`:\n",
    " 1. As an `Operator` object.\n",
    " 2. As a vector associated with a `Basis` of `OperatorStrings`.\n",
    " \n",
    "When performing frequent or expensive calculations, approach 2 is necessary as matrix-vector manipulations are efficient. However, when performing infrequent or inexpensive calculations, approach 1 is preferred since `Operator` objects can be easier to manipulate.\n",
    "\n",
    "For example, the operator $\\sum_j \\hat{\\sigma}^z_j$ can be represented in the following two ways:"
   ]
  },
  {
   "cell_type": "code",
   "execution_count": 14,
   "metadata": {},
   "outputs": [
    {
     "name": "stdout",
     "output_type": "stream",
     "text": [
      "Operator form of totalZ = \n",
      "(1+0j) (1.0 Z 0 )\n",
      "(1+0j) (1.0 Z 1 )\n",
      "(1+0j) (1.0 Z 2 )\n",
      "(1+0j) (1.0 Z 3 )\n",
      "(1+0j) (1.0 Z 4 )\n",
      "(1+0j) (1.0 Z 5 )\n",
      "(1+0j) (1.0 Z 6 )\n",
      "(1+0j) (1.0 Z 7 )\n",
      "(1+0j) (1.0 Z 8 )\n",
      "(1+0j) (1.0 Z 9 )\n",
      "\n",
      "Vector form of totalZ = \n",
      "[ 0.  0.  1.  0.  0.  1.  0.  0.  1.  0.  0.  1.  0.  0.  1.  0.  0.  1.\n",
      "  0.  0.  1.  0.  0.  1.  0.  0.  1.  0.  0.  1.]\n",
      "Basis vectors = \n",
      "1.0 X 0 \n",
      "1.0 Y 0 \n",
      "1.0 Z 0 \n",
      "1.0 X 1 \n",
      "1.0 Y 1 \n",
      "1.0 Z 1 \n",
      "1.0 X 2 \n",
      "1.0 Y 2 \n",
      "1.0 Z 2 \n",
      "1.0 X 3 \n",
      "1.0 Y 3 \n",
      "1.0 Z 3 \n",
      "1.0 X 4 \n",
      "1.0 Y 4 \n",
      "1.0 Z 4 \n",
      "1.0 X 5 \n",
      "1.0 Y 5 \n",
      "1.0 Z 5 \n",
      "1.0 X 6 \n",
      "1.0 Y 6 \n",
      "1.0 Z 6 \n",
      "1.0 X 7 \n",
      "1.0 Y 7 \n",
      "1.0 Z 7 \n",
      "1.0 X 8 \n",
      "1.0 Y 8 \n",
      "1.0 Z 8 \n",
      "1.0 X 9 \n",
      "1.0 Y 9 \n",
      "1.0 Z 9 \n",
      "\n"
     ]
    }
   ],
   "source": [
    "import numpy as np\n",
    "\n",
    "# Consider a system with 10 orbitals.\n",
    "num_orbitals = 10\n",
    "orbitals     = np.arange(num_orbitals)\n",
    "\n",
    "### Approach 1: use an Operator object ###\n",
    "\n",
    "# The coefficients in front of the OperatorStrings.\n",
    "coeffs = np.ones(num_orbitals)\n",
    "\n",
    "# The OperatorStrings $\\hat{\\sigma}^z_j$.\n",
    "op_strings = [qy.opstring('Z {}'.format(orbital)) for orbital in orbitals]\n",
    "\n",
    "# Create the operator.\n",
    "totalZ = qy.Operator(coeffs, op_strings)\n",
    "\n",
    "# Print the operator as an Operator object.\n",
    "print('Operator form of totalZ = ')\n",
    "print(totalZ)\n",
    "\n",
    "### Approach 2: use a vector in a Basis ###\n",
    "\n",
    "# Construct a basis made of 1-local Pauli strings on all orbitals.\n",
    "k       = 1\n",
    "op_type = 'Pauli'\n",
    "basis   = qy.cluster_basis(k, orbitals, op_type)\n",
    "\n",
    "# Populate the correct entries of a vector.\n",
    "inds_totalZ = [ind for ind in range(len(basis)) if basis[ind].orbital_operators[0] == 'Z']\n",
    "vector_totalZ = np.zeros(len(basis))\n",
    "vector_totalZ[inds_totalZ] = 1.0\n",
    "\n",
    "# Print the operator as a vector in a basis.\n",
    "print('Vector form of totalZ = ')\n",
    "print(vector_totalZ)\n",
    "\n",
    "# ...and the basis it is represented in.\n",
    "print('Basis vectors = ')\n",
    "print(basis)"
   ]
  },
  {
   "cell_type": "markdown",
   "metadata": {},
   "source": [
    "`Bases` and `Operators` come with convenient functionality.\n",
    "\n",
    "`Bases` can be expanded by adding `OperatorStrings` and other `Bases` to them directly:"
   ]
  },
  {
   "cell_type": "code",
   "execution_count": 19,
   "metadata": {},
   "outputs": [
    {
     "name": "stdout",
     "output_type": "stream",
     "text": [
      "1.0 X 0 \n",
      "1.0 Y 0 \n",
      "1.0 Z 0 \n",
      "1.0 X 1 \n",
      "1.0 Y 1 \n",
      "1.0 Z 1 \n",
      "1.0 X 2 \n",
      "1.0 Y 2 \n",
      "1.0 Z 2 \n",
      "1.0 X 3 \n",
      "1.0 Y 3 \n",
      "1.0 Z 3 \n",
      "1.0 X 4 \n",
      "1.0 Y 4 \n",
      "1.0 Z 4 \n",
      "1.0 X 5 \n",
      "1.0 Y 5 \n",
      "1.0 Z 5 \n",
      "1.0 X 6 \n",
      "1.0 Y 6 \n",
      "1.0 Z 6 \n",
      "1.0 X 7 \n",
      "1.0 Y 7 \n",
      "1.0 Z 7 \n",
      "1.0 X 8 \n",
      "1.0 Y 8 \n",
      "1.0 Z 8 \n",
      "1.0 X 9 \n",
      "1.0 Y 9 \n",
      "1.0 Z 9 \n",
      "1.0 X 1 X 2 \n",
      "\n"
     ]
    }
   ],
   "source": [
    "# Construct a new empty Basis.\n",
    "new_basis = qy.Basis()\n",
    "# Add the above Basis's OperatorStrings to the new basis.\n",
    "new_basis += basis\n",
    "# Add an OperatorString directly to the basis.\n",
    "new_basis += qy.opstring('X 1 X 2')\n",
    "\n",
    "print(new_basis)"
   ]
  },
  {
   "cell_type": "markdown",
   "metadata": {},
   "source": [
    "`Operators`, even if they are made up of different `OperatorStrings`, can be added together:"
   ]
  },
  {
   "cell_type": "code",
   "execution_count": 21,
   "metadata": {},
   "outputs": [
    {
     "name": "stdout",
     "output_type": "stream",
     "text": [
      "(1+0j) (1.0 Z 0 )\n",
      "(1+0j) (1.0 Z 1 )\n",
      "(1+0j) (1.0 Z 2 )\n",
      "(1+0j) (1.0 Z 3 )\n",
      "(1+0j) (1.0 Z 4 )\n",
      "(1+0j) (1.0 Z 5 )\n",
      "(1+0j) (1.0 Z 6 )\n",
      "(1+0j) (1.0 Z 7 )\n",
      "(1+0j) (1.0 Z 8 )\n",
      "(1+0j) (1.0 Z 9 )\n",
      "(1+0j) (1.0 Y 0 )\n",
      "(1+0j) (1.0 Y 1 )\n",
      "(1+0j) (1.0 Y 2 )\n",
      "(1+0j) (1.0 Y 3 )\n",
      "(1+0j) (1.0 Y 4 )\n",
      "(1+0j) (1.0 Y 5 )\n",
      "(1+0j) (1.0 Y 6 )\n",
      "(1+0j) (1.0 Y 7 )\n",
      "(1+0j) (1.0 Y 8 )\n",
      "(1+0j) (1.0 Y 9 )\n",
      "\n"
     ]
    }
   ],
   "source": [
    "# Create another operator.\n",
    "coeffs     = np.ones(num_orbitals)\n",
    "op_strings = [qy.opstring('Y {}'.format(orbital)) for orbital in orbitals]\n",
    "totalY     = qy.Operator(coeffs, op_strings)\n",
    "\n",
    "# Add the two together.\n",
    "sum_totalZ_totalY = totalZ + totalY\n",
    "\n",
    "print(sum_totalZ_totalY)"
   ]
  },
  {
   "cell_type": "code",
   "execution_count": null,
   "metadata": {},
   "outputs": [],
   "source": []
  }
 ],
 "metadata": {
  "kernelspec": {
   "display_name": "Python 3",
   "language": "python",
   "name": "python3"
  },
  "language_info": {
   "codemirror_mode": {
    "name": "ipython",
    "version": 3
   },
   "file_extension": ".py",
   "mimetype": "text/x-python",
   "name": "python",
   "nbconvert_exporter": "python",
   "pygments_lexer": "ipython3",
   "version": "3.6.9"
  }
 },
 "nbformat": 4,
 "nbformat_minor": 1
}
